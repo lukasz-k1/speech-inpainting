{
 "cells": [
  {
   "cell_type": "code",
   "execution_count": null,
   "metadata": {},
   "outputs": [],
   "source": [
    "import matplotlib.pyplot as plt\n",
    "import numpy as np\n",
    "import os\n",
    "\n",
    "import tensorflow as tf\n",
    "import tensorflow.keras.models as models\n",
    "import tensorflow.keras.layers as layers"
   ]
  },
  {
   "cell_type": "code",
   "execution_count": null,
   "metadata": {},
   "outputs": [],
   "source": [
    "path = \"arrays/\"\n",
    "\n",
    "X_train = np.load(f'{path}X_train.npy', fix_imports=False)\n",
    "y_train = np.load(f'{path}y_train.npy', fix_imports=False)\n",
    "\n",
    "X_test = np.load(f'{path}X_test.npy', fix_imports=False)\n",
    "y_test = np.load(f'{path}y_test.npy', fix_imports=False)"
   ]
  },
  {
   "cell_type": "code",
   "execution_count": null,
   "metadata": {},
   "outputs": [],
   "source": [
    "epochs = 50\n",
    "batch_size = 128\n",
    "lr = 0.001\n",
    "\n",
    "input_shape = (X_train.shape[1],)\n",
    "initializer = tf.keras.initializers.GlorotNormal(seed=42)\n",
    "\n",
    "model = models.Sequential([\n",
    "    layers.Dense(512, activation='relu', kernel_initializer=initializer, input_shape=input_shape),\n",
    "    layers.BatchNormalization(),\n",
    "    layers.Dense(input_shape[0], activation='linear')\n",
    "])\n",
    "\n",
    "optimizer = tf.keras.optimizers.Adagrad(lr=lr)\n",
    "\n",
    "model.compile(loss='mean_squared_error', optimizer=optimizer, metrics='mean_squared_error')\n",
    "model.summary()"
   ]
  },
  {
   "cell_type": "code",
   "execution_count": null,
   "metadata": {},
   "outputs": [],
   "source": [
    "history = model.fit(X_train, y_train,\n",
    "                    validation_data=(X_test, y_test),\n",
    "                    epochs=epochs,\n",
    "                    batch_size=batch_size)\n"
   ]
  },
  {
   "cell_type": "code",
   "execution_count": null,
   "metadata": {},
   "outputs": [],
   "source": [
    "fig, ax = plt.subplots(figsize=(9, 6))\n",
    "ax.plot(history.history['loss'])\n",
    "ax.plot(history.history['val_loss'])\n",
    "ax.set_xlabel('Epochs')\n",
    "ax.set_ylabel('MSE')\n",
    "ax.legend(['train', 'test'], loc='upper left')\n",
    "plt.show()"
   ]
  },
  {
   "cell_type": "code",
   "execution_count": null,
   "metadata": {},
   "outputs": [],
   "source": [
    "name = \"model_01\"\n",
    "\n",
    "model_path = f\"models/{name}\"\n",
    "\n",
    "if os.path.isdir(model_path):\n",
    "    model_path = f\"{model_path}_\"\n",
    "\n",
    "model.save(model_path)"
   ]
  }
 ],
 "metadata": {
  "language_info": {
   "name": "python"
  },
  "orig_nbformat": 4
 },
 "nbformat": 4,
 "nbformat_minor": 2
}
